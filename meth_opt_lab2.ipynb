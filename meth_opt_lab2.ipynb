{
 "cells": [
  {
   "cell_type": "code",
   "execution_count": 63,
   "metadata": {
    "collapsed": true,
    "pycharm": {
     "is_executing": false
    }
   },
   "outputs": [],
   "source": [
    "import numpy as np"
   ]
  },
  {
   "cell_type": "code",
   "execution_count": 64,
   "metadata": {
    "pycharm": {
     "is_executing": false,
     "name": "#%%\n"
    }
   },
   "outputs": [],
   "source": [
    "x0 = [1, 1]\n",
    "h0 = 0.0001\n",
    "eps = 0.00002\n",
    "lam = 0.5"
   ]
  },
  {
   "cell_type": "code",
   "execution_count": 65,
   "metadata": {
    "pycharm": {
     "is_executing": false,
     "name": "#%%\n"
    }
   },
   "outputs": [],
   "source": [
    "def func(vec):\n",
    "    return vec[0]**2 + 28*(vec[1]**2) + 0.02*vec[0]*vec[1]-vec[0]-vec[1]"
   ]
  },
  {
   "cell_type": "code",
   "execution_count": 66,
   "metadata": {
    "pycharm": {
     "is_executing": false,
     "name": "#%%\n"
    }
   },
   "outputs": [],
   "source": [
    "def derivative(vec, h):\n",
    "    fx = (func(np.array([vec[0] + h, vec[1]])) - func(np.array([vec[0] - h, vec[1]]))) / 2 / h\n",
    "    fy = (func(np.array([vec[0], vec[1] + h])) - func(np.array([vec[0], vec[1] - h]))) / 2 / h\n",
    "    return np.array([fx, fy])"
   ]
  },
  {
   "cell_type": "code",
   "execution_count": 67,
   "metadata": {
    "pycharm": {
     "is_executing": false,
     "name": "#%%\n"
    }
   },
   "outputs": [],
   "source": [
    "def second_derivative(vec, h):\n",
    "    fxx = (func(np.array([vec[0] + h, vec[1]])) - 2*func(np.array([vec[0], vec[1]])) + func(np.array([vec[0] - h, vec[1]]))) / h**2\n",
    "    fyy = (func(np.array([vec[0], vec[1] + h])) - 2*func(np.array([vec[0], vec[1]])) + func(np.array([vec[0], vec[1] - h]))) / h**2\n",
    "    fxy = (func(np.array([vec[0] + h, vec[1] + h])) + func(np.array([vec[0] - h, vec[1] - h])) - func(np.array([vec[0] - h, vec[1] + h]))- func(np.array([vec[0] + h, vec[1] - h])))/(4*h*h)\n",
    "    return np.array([[fxx, fxy],[fxy, fyy]])"
   ]
  },
  {
   "cell_type": "code",
   "execution_count": 68,
   "metadata": {
    "pycharm": {
     "is_executing": false,
     "name": "#%%\n"
    }
   },
   "outputs": [],
   "source": [
    "def hk(vec, h):\n",
    "    return -1 * np.linalg.solve(second_derivative(vec, h), derivative(vec, h))"
   ]
  },
  {
   "cell_type": "code",
   "execution_count": 69,
   "outputs": [],
   "source": [
    "def s(x):\n",
    "    return sum(list(derivative(x, h0)[index] * hk(x, h0)[index] for index in range(len(hk(x, h0)))))"
   ],
   "metadata": {
    "collapsed": false,
    "pycharm": {
     "name": "#%%\n",
     "is_executing": false
    }
   }
  },
  {
   "cell_type": "code",
   "execution_count": 70,
   "metadata": {
    "pycharm": {
     "is_executing": false,
     "name": "#%%\n"
    }
   },
   "outputs": [],
   "source": [
    "def newton_var1():\n",
    "    print('Splitting:\\n\\n')\n",
    "    x = x0\n",
    "    al = 1\n",
    "    i = 1\n",
    "    if func(x) - func(x + al * hk(x, h0)) > eps*al*s(x):\n",
    "        while func(x + al * hk(x, h0)) >= func(x):\n",
    "            al *= lam        \n",
    "    y = x + al * hk(x, h0)\n",
    "    print(f'alpha[{i}] = {al} ,')\n",
    "    print(f'x[{i}] = {y}; f(x[{i}]) = {func(y)};\\n\\n')\n",
    "    i += 1\n",
    "    while np.linalg.norm(x-y) > eps:\n",
    "        al = 1\n",
    "        x = y\n",
    "        while func(x + al * hk(x, h0)) >= func(x):\n",
    "            al *= lam\n",
    "        y = x + al * hk(x, h0)\n",
    "        print(f'alpha[{i}] = {al} ,')\n",
    "        print(f'x[{i}] = {y}; f(x[{i}]) = {func(y)} ;\\n\\n')\n",
    "        i += 1\n",
    "    print(f'Result: x = {y}; f(x) = {func(y)}.\\n')"
   ]
  },
  {
   "cell_type": "code",
   "execution_count": 71,
   "metadata": {
    "pycharm": {
     "is_executing": false,
     "name": "#%%\n"
    }
   },
   "outputs": [
    {
     "name": "stdout",
     "text": [
      "Splitting:\n",
      "\n",
      "\n",
      "alpha[1] = 1 ,\n",
      "x[1] = [0.49982334 0.01767863]; f(x[1]) = -0.25875092411042605;\n",
      "\n",
      "\n",
      "alpha[2] = 1 ,\n",
      "x[2] = [0.49982321 0.01767863]; f(x[2]) = -0.25875092411044326 ;\n",
      "\n",
      "\n",
      "Result: x = [0.49982321 0.01767863]; f(x) = -0.25875092411044326.\n",
      "\n"
     ],
     "output_type": "stream"
    }
   ],
   "source": [
    "newton_var1()\n"
   ]
  }
 ],
 "metadata": {
  "kernelspec": {
   "display_name": "Python 3",
   "language": "python",
   "name": "python3"
  },
  "language_info": {
   "codemirror_mode": {
    "name": "ipython",
    "version": 3
   },
   "file_extension": ".py",
   "mimetype": "text/x-python",
   "name": "python",
   "nbconvert_exporter": "python",
   "pygments_lexer": "ipython3",
   "version": "3.8.0"
  },
  "pycharm": {
   "stem_cell": {
    "cell_type": "raw",
    "source": [],
    "metadata": {
     "collapsed": false
    }
   }
  }
 },
 "nbformat": 4,
 "nbformat_minor": 1
}